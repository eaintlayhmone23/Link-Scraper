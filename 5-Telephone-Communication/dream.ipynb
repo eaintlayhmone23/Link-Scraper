{
 "cells": [
  {
   "cell_type": "markdown",
   "metadata": {},
   "source": [
    "### Scraper for <a href=\"https://www.eiyokentei.com/category/column/\"> Eiyokentei </a> website"
   ]
  },
  {
   "cell_type": "code",
   "execution_count": 4,
   "metadata": {},
   "outputs": [],
   "source": [
    "from bs4 import BeautifulSoup\n",
    "from selenium import webdriver\n",
    "from selenium.webdriver.chrome.service import Service\n",
    "from webdriver_manager.chrome import ChromeDriverManager\n",
    "import os\n",
    "import requests"
   ]
  },
  {
   "cell_type": "code",
   "execution_count": 5,
   "metadata": {},
   "outputs": [],
   "source": [
    "def get_chrome_Driver():\n",
    "    driver = webdriver.Chrome(service=Service(ChromeDriverManager().install()))\n",
    "    return driver\n",
    "\n",
    "def get_soup(URL):\n",
    "    r = requests.get(URL)\n",
    "    if r:\n",
    "        driver = get_chrome_Driver()\n",
    "        driver.get(URL)\n",
    "        htmlContent = driver.page_source\n",
    "        soup =  BeautifulSoup(htmlContent, 'html.parser')\n",
    "        driver.close()\n",
    "        return soup\n",
    "    else:\n",
    "        print(\"Error Fetching Soup, Scraping Ended\")\n",
    "        return False\n",
    "\n",
    "def get_link_from_soup(soup):\n",
    "    ul = soup.find('div',{'class':'tips_wrapper_index'}).ul\n",
    "    wanted_lis= ul.findAll('li',{'class':'sim'})\n",
    "    link_list = []\n",
    "\n",
    "    for li in wanted_lis:\n",
    "        link = li.find('a')\n",
    "        link = \"https://dream.jp/\"+ str(link['href'])\n",
    "        print(link)\n",
    "        link_list.append(link)\n",
    "        \n",
    "    return link_list\n",
    "\n",
    "\n",
    "\n",
    "def save_link_as_txt(link_list):\n",
    "    file_path = \"links/dream.txt\"\n",
    "    # if file exist, get its content, merge to existing set and then overwrite\n",
    "    if os.path.isfile(file_path):\n",
    "        with open(file_path, 'r+', encoding=\"utf-8\") as file:\n",
    "            # get existing links in file\n",
    "            old_links = set(file.readlines())\n",
    "            # remove duplicates \n",
    "            link_list = link_list - old_links\n",
    "            file.seek(0)\n",
    "            for i in link_list:\n",
    "                file.write(i+\"\\n\")\n",
    "            file.truncate()\n",
    "    else: # if not, make new file\n",
    "        os.makedirs(os.path.dirname(file_path), exist_ok=True)\n",
    "        with open(file_path, \"w\", encoding=\"utf-8\") as file:\n",
    "            for i in link_list:\n",
    "                file.write(i+\"\\n\")\n",
    "    print(f\"Links Saved in {file_path}\")\n",
    "    return True"
   ]
  },
  {
   "cell_type": "code",
   "execution_count": 6,
   "metadata": {},
   "outputs": [
    {
     "name": "stdout",
     "output_type": "stream",
     "text": [
      "https://dream.jp//ftth/tips_f/hikari15.html\n",
      "https://dream.jp//ftth/tips_f/hikari10.html\n",
      "https://dream.jp//ftth/tips_f/hikari09.html\n",
      "https://dream.jp//ftth/tips_f/hikari44.html\n",
      "https://dream.jp//ftth/tips_f/hikari43.html\n",
      "https://dream.jp//ftth/tips_f/hikari21.html\n",
      "https://dream.jp//ftth/tips_f/hikari26.html\n",
      "https://dream.jp//ftth/tips_f/hikari12.html\n",
      "https://dream.jp//ftth/tips_f/hikari13.html\n",
      "https://dream.jp//ftth/tips_f/hikari19.html\n",
      "https://dream.jp//ftth/tips_f/hikari16.html\n",
      "https://dream.jp//ftth/tips_f/hikari07.html\n",
      "https://dream.jp//ftth/tips_f/hikari06.html\n",
      "https://dream.jp//ftth/tips_f/hikari42.html\n",
      "https://dream.jp//ftth/tips_f/hikari41.html\n",
      "https://dream.jp//ftth/tips_f/hikari40.html\n",
      "https://dream.jp//ftth/tips_f/hikari39.html\n",
      "https://dream.jp//ftth/tips_f/hikari38.html\n",
      "https://dream.jp//ftth/tips_f/hikari37.html\n",
      "https://dream.jp//ftth/tips_f/hikari36.html\n",
      "https://dream.jp//ftth/tips_f/hikari35.html\n",
      "https://dream.jp//ftth/tips_f/hikari22.html\n",
      "https://dream.jp//ftth/tips_f/hikari01.html\n",
      "https://dream.jp//ftth/tips_f/hikari11.html\n",
      "https://dream.jp//ftth/tips_f/hikari27.html\n",
      "https://dream.jp//ftth/tips_f/hikari31.html\n",
      "https://dream.jp//ftth/tips_f/hikari05.html\n",
      "https://dream.jp//ftth/tips_f/hikari34.html\n",
      "https://dream.jp//ftth/tips_f/hikari33.html\n",
      "https://dream.jp//ftth/tips_f/hikari32.html\n",
      "https://dream.jp//ftth/tips_f/hikari30.html\n",
      "https://dream.jp//ftth/tips_f/hikari29.html\n",
      "https://dream.jp//ftth/tips_f/hikari28.html\n",
      "https://dream.jp//ftth/tips_f/hikari25.html\n",
      "https://dream.jp//ftth/tips_f/hikari24.html\n",
      "https://dream.jp//ftth/tips_f/hikari23.html\n",
      "https://dream.jp//ftth/tips_f/hikari04.html\n",
      "https://dream.jp//ftth/tips_f/hikari20.html\n",
      "https://dream.jp//ftth/tips_f/hikari18.html\n",
      "https://dream.jp//ftth/tips_f/hikari17.html\n",
      "https://dream.jp//ftth/tips_f/hikari03.html\n",
      "https://dream.jp//ftth/tips_f/hikari14.html\n",
      "https://dream.jp//ftth/tips_f/hikari02.html\n",
      "https://dream.jp//ftth/tips_f/hikari08.html\n",
      "Error Fetching Soup, Scraping Ended\n",
      "Links Saved in links/dream.txt\n"
     ]
    },
    {
     "data": {
      "text/plain": [
       "True"
      ]
     },
     "execution_count": 6,
     "metadata": {},
     "output_type": "execute_result"
    }
   ],
   "source": [
    "all_links = set()\n",
    "for i in range(1,10):\n",
    "    if i == 1:\n",
    "        soup = get_soup(f\"https://dream.jp/ftth/tips_f/index.html\")\n",
    "    else:\n",
    "        soup = get_soup(f\"https://dream.jp/ftth/tips_f/index{i}.html\") \n",
    "\n",
    "    if soup:\n",
    "        current_links = get_link_from_soup(soup)\n",
    "        if len(current_links) > 0: # continue until no tags are found \n",
    "            all_links.update(current_links)\n",
    "        else: # if tags we want are not found\n",
    "            break\n",
    "    else: # if encountered HTML error such as 404\n",
    "        break\n",
    "\n",
    "save_link_as_txt(all_links)"
   ]
  }
 ],
 "metadata": {
  "kernelspec": {
   "display_name": "Python 3.8.10 ('proj0': venv)",
   "language": "python",
   "name": "python3"
  },
  "language_info": {
   "codemirror_mode": {
    "name": "ipython",
    "version": 3
   },
   "file_extension": ".py",
   "mimetype": "text/x-python",
   "name": "python",
   "nbconvert_exporter": "python",
   "pygments_lexer": "ipython3",
   "version": "3.8.10"
  },
  "orig_nbformat": 4,
  "vscode": {
   "interpreter": {
    "hash": "2f10e409dbcda6cdc0ba569de5a5e5f90bfa18acc22334e78448605fa53cf624"
   }
  }
 },
 "nbformat": 4,
 "nbformat_minor": 2
}
