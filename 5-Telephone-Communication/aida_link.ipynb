{
 "cells": [
  {
   "cell_type": "markdown",
   "metadata": {},
   "source": [
    "### Scraper for <a href=\"https://www.eiyokentei.com/category/column/\"> Eiyokentei </a> website"
   ]
  },
  {
   "cell_type": "code",
   "execution_count": 9,
   "metadata": {},
   "outputs": [],
   "source": [
    "from bs4 import BeautifulSoup\n",
    "from selenium import webdriver\n",
    "from selenium.webdriver.chrome.service import Service\n",
    "from webdriver_manager.chrome import ChromeDriverManager\n",
    "import os\n",
    "import requests"
   ]
  },
  {
   "cell_type": "code",
   "execution_count": 10,
   "metadata": {},
   "outputs": [],
   "source": [
    "def get_chrome_Driver():\n",
    "    driver = webdriver.Chrome(service=Service(ChromeDriverManager().install()))\n",
    "    return driver\n",
    "\n",
    "def get_soup(URL):\n",
    "    r = requests.get(URL)\n",
    "    if r:\n",
    "        driver = get_chrome_Driver()\n",
    "        driver.get(URL)\n",
    "        htmlContent = driver.page_source\n",
    "        soup =  BeautifulSoup(htmlContent, 'html.parser')\n",
    "        driver.close()\n",
    "        return soup\n",
    "    else:\n",
    "        print(\"Error Fetching Soup, Scraping Ended\")\n",
    "        return False\n",
    "\n",
    "def get_link_from_soup(soup):\n",
    "    wanted_div = soup.findAll('div',{'class':'l-main'})[0]\n",
    "    wanted_article= wanted_div.findAll('article',{'class':'card card-horizontal l-grid hentry'})\n",
    "    link_list = []\n",
    "\n",
    "    for article in wanted_article:\n",
    "        link = article.find('div',{'class':'card-contents-wrap'}).h3.a\n",
    "        link = str(link['href'])\n",
    "        print(link)\n",
    "        link_list.append(link)\n",
    "\n",
    "    return link_list\n",
    "\n",
    "def save_link_as_txt(link_list):\n",
    "    file_path = \"links/aida_link.txt\"\n",
    "    # if file exist, get its content, merge to existing set and then overwrite\n",
    "    if os.path.isfile(file_path):\n",
    "        with open(file_path, 'r+', encoding=\"utf-8\") as file:\n",
    "            # get existing links in file\n",
    "            old_links = set(file.readlines())\n",
    "            # remove duplicates \n",
    "            link_list = link_list - old_links\n",
    "            file.seek(0)\n",
    "            for i in link_list:\n",
    "                file.write(i+\"\\n\")\n",
    "            file.truncate()\n",
    "    else: # if not, make new file\n",
    "        os.makedirs(os.path.dirname(file_path), exist_ok=True)\n",
    "        with open(file_path, \"w\", encoding=\"utf-8\") as file:\n",
    "            for i in link_list:\n",
    "                file.write(i+\"\\n\")\n",
    "    print(f\"Links Saved in {file_path}\")\n",
    "    return True"
   ]
  },
  {
   "cell_type": "code",
   "execution_count": 11,
   "metadata": {},
   "outputs": [
    {
     "name": "stdout",
     "output_type": "stream",
     "text": [
      "https://aida-link.com/aida-blog/8473\n",
      "https://aida-link.com/aida-blog/8417\n",
      "https://aida-link.com/aida-blog/8202\n",
      "https://aida-link.com/aida-blog/8077\n",
      "https://aida-link.com/aida-blog/8026\n",
      "https://aida-link.com/aida-blog/7961\n",
      "https://aida-link.com/aida-blog/7744\n",
      "https://aida-link.com/aida-blog/7539\n",
      "https://aida-link.com/aida-blog/7515\n",
      "https://aida-link.com/aida-blog/7410\n",
      "https://aida-link.com/aida-blog/7395\n",
      "https://aida-link.com/aida-blog/ict-blog/4836\n",
      "https://aida-link.com/aida-blog/rent-blog/4253\n",
      "https://aida-link.com/aida-blog/rent-blog/2259\n",
      "https://aida-link.com/aida-blog/dds-blog/1784\n",
      "https://aida-link.com/aida-blog/ict-blog/1644\n",
      "https://aida-link.com/aida-blog/rent-blog/902\n",
      "https://aida-link.com/aida-blog/rent-blog/712\n",
      "Error Fetching Soup, Scraping Ended\n",
      "Links Saved in links/aida_link.txt\n"
     ]
    },
    {
     "data": {
      "text/plain": [
       "True"
      ]
     },
     "execution_count": 11,
     "metadata": {},
     "output_type": "execute_result"
    }
   ],
   "source": [
    "all_links = set()\n",
    "for i in range(1,100):\n",
    "    soup = get_soup(f\"https://aida-link.com/tag/%e9%80%9a%e4%bf%a1%e6%a9%9f%e5%99%a8/page/{i}\")\n",
    "    if soup:\n",
    "        current_links = get_link_from_soup(soup)\n",
    "        if len(current_links) > 0: # continue until no tags are found \n",
    "            all_links.update(current_links)\n",
    "        else: # if tags we want are not found\n",
    "            break\n",
    "    else: # if encountered HTML error such as 404\n",
    "        break\n",
    "\n",
    "save_link_as_txt(all_links)"
   ]
  }
 ],
 "metadata": {
  "kernelspec": {
   "display_name": "Python 3.8.10 ('proj0': venv)",
   "language": "python",
   "name": "python3"
  },
  "language_info": {
   "codemirror_mode": {
    "name": "ipython",
    "version": 3
   },
   "file_extension": ".py",
   "mimetype": "text/x-python",
   "name": "python",
   "nbconvert_exporter": "python",
   "pygments_lexer": "ipython3",
   "version": "3.8.10"
  },
  "orig_nbformat": 4,
  "vscode": {
   "interpreter": {
    "hash": "2f10e409dbcda6cdc0ba569de5a5e5f90bfa18acc22334e78448605fa53cf624"
   }
  }
 },
 "nbformat": 4,
 "nbformat_minor": 2
}
