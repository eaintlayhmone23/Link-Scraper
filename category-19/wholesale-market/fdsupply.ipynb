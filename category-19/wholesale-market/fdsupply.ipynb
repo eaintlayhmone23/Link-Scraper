{
 "cells": [
  {
   "cell_type": "markdown",
   "metadata": {},
   "source": [
    "### Scraper for <a href=\"https://fdsupply.org/archive/category/%E5%8D%B8%E5%A3%B2%E5%B8%82%E5%A0%B4%E3%81%AE%E8%AA%B2%E9%A1%8C\"> Fdsupply </a> website"
   ]
  },
  {
   "cell_type": "code",
   "execution_count": 1,
   "metadata": {},
   "outputs": [],
   "source": [
    "from bs4 import BeautifulSoup\n",
    "from selenium import webdriver\n",
    "from selenium.webdriver.chrome.service import Service\n",
    "from webdriver_manager.chrome import ChromeDriverManager\n",
    "import os\n",
    "import requests"
   ]
  },
  {
   "cell_type": "code",
   "execution_count": 2,
   "metadata": {},
   "outputs": [],
   "source": [
    "def get_chrome_Driver():\n",
    "    driver = webdriver.Chrome(service=Service(ChromeDriverManager().install()))\n",
    "    return driver\n",
    "\n",
    "def get_soup(URL):\n",
    "    r = requests.get(URL)\n",
    "    if r:\n",
    "        driver = get_chrome_Driver()\n",
    "        driver.get(URL)\n",
    "        htmlContent = driver.page_source\n",
    "        soup =  BeautifulSoup(htmlContent, 'html.parser')\n",
    "        driver.close()\n",
    "        return soup\n",
    "    else:\n",
    "        print(\"Error Fetching Soup, Scraping Ended\")\n",
    "        return False\n",
    "\n",
    "def get_link_from_soup(soup):\n",
    "\n",
    "    link_list = list()\n",
    "    try:\n",
    "        wanted_div = soup.findAll(\"div\", {\"class\":\"archive-entries\"})[0]\n",
    "    except IndexError:\n",
    "        print(\"HTML element not found, returning empty set\")\n",
    "        return set()\n",
    "    for div in wanted_div.findAll(\"section\", {\"class\":\"archive-entry test-archive-entry autopagerize_page_element\"}):\n",
    "        wanted_article = div.findAll('a', href=True)[1][\"href\"]\n",
    "        link_list.append(wanted_article)\n",
    "    return link_list\n",
    "\n",
    "def save_link_as_txt(link_list):\n",
    "    file_path = \"links/fdsupply.txt\"\n",
    "    # if file exist, get its content, merge to existing set and then overwrite\n",
    "    if os.path.isfile(file_path):\n",
    "        with open(file_path, 'r+', encoding=\"utf-8\") as file:\n",
    "            # get existing links in file\n",
    "            old_links = set(file.readlines())\n",
    "            # remove duplicates \n",
    "            link_list = link_list - old_links\n",
    "            file.seek(0)\n",
    "            for i in link_list:\n",
    "                file.write(i+\"\\n\")\n",
    "            file.truncate()\n",
    "    else: # if not, make new file\n",
    "        os.makedirs(os.path.dirname(file_path), exist_ok=True)\n",
    "        with open(file_path, \"w\", encoding=\"utf-8\") as file:\n",
    "            for i in link_list:\n",
    "                file.write(i+\"\\n\")\n",
    "    print(f\"Links Saved in {file_path}\")\n",
    "    return True"
   ]
  },
  {
   "cell_type": "code",
   "execution_count": 3,
   "metadata": {},
   "outputs": [
    {
     "name": "stdout",
     "output_type": "stream",
     "text": [
      "Error Fetching Soup, Scraping Ended\n",
      "Links Saved in links/fdsupply.txt\n"
     ]
    },
    {
     "data": {
      "text/plain": [
       "True"
      ]
     },
     "execution_count": 3,
     "metadata": {},
     "output_type": "execute_result"
    }
   ],
   "source": [
    "all_links = set()\n",
    "for i in range(1,100):\n",
    "    soup = get_soup(f\"https://fdsupply.org/archive/category/%E5%8D%B8%E5%A3%B2%E5%B8%82%E5%A0%B4%E3%81%AE%E8%AA%B2%E9%A1%8C?page={i}\")\n",
    "    if soup:\n",
    "        current_links = get_link_from_soup(soup)\n",
    "        if len(current_links) > 0: # continue until no tags are found \n",
    "            all_links.update(current_links)\n",
    "        else: # if tags we want are not found\n",
    "            break\n",
    "    else: # if encountered HTML error such as 404\n",
    "        break\n",
    "\n",
    "save_link_as_txt(all_links)"
   ]
  }
 ],
 "metadata": {
  "kernelspec": {
   "display_name": "Python 3.8.10 ('proj0': venv)",
   "language": "python",
   "name": "python3"
  },
  "language_info": {
   "codemirror_mode": {
    "name": "ipython",
    "version": 3
   },
   "file_extension": ".py",
   "mimetype": "text/x-python",
   "name": "python",
   "nbconvert_exporter": "python",
   "pygments_lexer": "ipython3",
   "version": "3.8.10"
  },
  "orig_nbformat": 4,
  "vscode": {
   "interpreter": {
    "hash": "2f10e409dbcda6cdc0ba569de5a5e5f90bfa18acc22334e78448605fa53cf624"
   }
  }
 },
 "nbformat": 4,
 "nbformat_minor": 2
}
